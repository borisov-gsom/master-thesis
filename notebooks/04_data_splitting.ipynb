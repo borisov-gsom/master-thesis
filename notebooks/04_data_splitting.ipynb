{
 "cells": [
  {
   "cell_type": "markdown",
   "id": "629b496e",
   "metadata": {},
   "source": [
    "# Data Splitting for Category-based Sales Forecasting\n",
    "\n",
    "This notebook splits the preprocessed sales data into separate files based on product category (category_detailed). These separate files will be used for category-based model training."
   ]
  },
  {
   "cell_type": "code",
   "execution_count": 1,
   "id": "4cb1ed5a",
   "metadata": {},
   "outputs": [],
   "source": [
    "# Import libraries\n",
    "import pandas as pd\n",
    "import numpy as np\n",
    "import matplotlib.pyplot as plt\n",
    "import seaborn as sns\n",
    "import os\n",
    "import warnings\n",
    "from tqdm.notebook import tqdm\n",
    "\n",
    "# Suppress warnings\n",
    "warnings.filterwarnings('ignore')\n",
    "\n",
    "# Set plotting style\n",
    "plt.style.use('seaborn-v0_8-whitegrid')\n",
    "sns.set_palette('viridis')"
   ]
  },
  {
   "cell_type": "markdown",
   "id": "af1d52d2",
   "metadata": {},
   "source": [
    "## 1. Load Preprocessed Sales Data\n",
    "\n",
    "First, we load the preprocessed sales data that contains all our features."
   ]
  },
  {
   "cell_type": "code",
   "execution_count": 2,
   "id": "fdce7466",
   "metadata": {},
   "outputs": [
    {
     "name": "stdout",
     "output_type": "stream",
     "text": [
      "Loading preprocessed sales data from ../data/processed/sales_processed.csv...\n",
      "Loaded sales data with 39,299,982 rows and 64 columns\n",
      "\n",
      "Sales data info:\n",
      "<class 'pandas.core.frame.DataFrame'>\n",
      "RangeIndex: 39299982 entries, 0 to 39299981\n",
      "Data columns (total 64 columns):\n",
      " #   Column                     Dtype  \n",
      "---  ------                     -----  \n",
      " 0   matrix_type                object \n",
      " 1   type_bonus_id              object \n",
      " 2   qnt                        float64\n",
      " 3   qnt_loss                   float64\n",
      " 4   discount                   float64\n",
      " 5   action_mediana_price       float64\n",
      " 6   reg_mediana_price          float64\n",
      " 7   bu_exists                  int64  \n",
      " 8   brand_id                   int64  \n",
      " 9   shelf                      float64\n",
      " 10  country_id                 object \n",
      " 11  unit                       object \n",
      " 12  netto                      float64\n",
      " 13  brutto                     float64\n",
      " 14  type_for_customer          int64  \n",
      " 15  regular_pnz                float64\n",
      " 16  promo_pnz                  float64\n",
      " 17  last_reg_mediana_price     float64\n",
      " 18  last_action_mediana_price  float64\n",
      " 19  count_park                 int64  \n",
      " 20  count_cashzone             int64  \n",
      " 21  geolocal_type              object \n",
      " 22  format_merch               object \n",
      " 23  week_iso                   int64  \n",
      " 24  regular_price              float64\n",
      " 25  action_price               float64\n",
      " 26  index_material             int64  \n",
      " 27  index_store                int64  \n",
      " 28  source_month               int64  \n",
      " 29  category_major             int64  \n",
      " 30  category_detailed          int64  \n",
      " 31  category_full              int64  \n",
      " 32  day_of_week                int64  \n",
      " 33  day_of_month               int64  \n",
      " 34  month                      int64  \n",
      " 35  quarter                    int64  \n",
      " 36  year                       int64  \n",
      " 37  is_weekend                 bool   \n",
      " 38  is_month_start             bool   \n",
      " 39  is_month_end               bool   \n",
      " 40  season                     object \n",
      " 41  day_of_week_sin            float64\n",
      " 42  day_of_week_cos            float64\n",
      " 43  day_of_month_sin           float64\n",
      " 44  day_of_month_cos           float64\n",
      " 45  month_sin                  float64\n",
      " 46  month_cos                  float64\n",
      " 47  is_promo                   bool   \n",
      " 48  price_ratio                float64\n",
      " 49  price_diff                 float64\n",
      " 50  price_discount_pct         float64\n",
      " 51  qnt_lag_14d                float64\n",
      " 52  qnt_lag_21d                float64\n",
      " 53  qnt_lag_28d                float64\n",
      " 54  qnt_lag_avg                float64\n",
      " 55  qnt_max                    float64\n",
      " 56  qnt_min                    float64\n",
      " 57  qnt_mean                   float64\n",
      " 58  qnt_median                 float64\n",
      " 59  seasonal_dow               float64\n",
      " 60  seasonal_month             float64\n",
      " 61  product_seasonal_strength  float64\n",
      " 62  seasonal_group             object \n",
      " 63  calday                     object \n",
      "dtypes: bool(4), float64(34), int64(17), object(9)\n",
      "memory usage: 17.7+ GB\n",
      "None\n"
     ]
    }
   ],
   "source": [
    "# Define file paths\n",
    "SALES_FILE = '../data/processed/sales_processed.csv'\n",
    "OUTPUT_DIR = '../data/splits/'\n",
    "\n",
    "# Create output directory if it doesn't exist\n",
    "os.makedirs(OUTPUT_DIR, exist_ok=True)\n",
    "\n",
    "# Load the preprocessed sales data\n",
    "print(f\"Loading preprocessed sales data from {SALES_FILE}...\")\n",
    "df_sales = pd.read_csv(SALES_FILE)\n",
    "\n",
    "print(f\"Loaded sales data with {len(df_sales):,} rows and {len(df_sales.columns)} columns\")\n",
    "\n",
    "# Display some basic information\n",
    "print(\"\\nSales data info:\")\n",
    "print(df_sales.info())"
   ]
  },
  {
   "cell_type": "markdown",
   "id": "f3e030a2",
   "metadata": {},
   "source": [
    "## 2. Define Groups for Splitting\n",
    "\n",
    "We'll split the data based on the `category_detailed` column, which represents the detailed product category."
   ]
  },
  {
   "cell_type": "code",
   "execution_count": 3,
   "id": "26bcfe66",
   "metadata": {},
   "outputs": [
    {
     "name": "stdout",
     "output_type": "stream",
     "text": [
      "Creating groups based on product category_detailed...\n",
      "\n",
      "Found 11 unique category groups\n",
      "Found 11 category groups with at least 1000 samples each\n",
      "\n",
      "Top 10 category groups by sample count:\n"
     ]
    },
    {
     "data": {
      "text/plain": [
       "group\n",
       "4202    7543435\n",
       "3801    6181336\n",
       "2314    5270299\n",
       "3501    5091927\n",
       "3106    4887522\n",
       "2802    3548302\n",
       "3705    2033387\n",
       "1705    1526275\n",
       "2506    1498937\n",
       "2404    1380448\n",
       "Name: count, dtype: int64"
      ]
     },
     "metadata": {},
     "output_type": "display_data"
    },
    {
     "data": {
      "image/png": "[encoded data removed]",
      "text/plain": [
       "<Figure size 1400x700 with 1 Axes>"
      ]
     },
     "metadata": {},
     "output_type": "display_data"
    },
    {
     "name": "stdout",
     "output_type": "stream",
     "text": [
      "Selected category groups cover 100.00% of the total data (39,299,982 out of 39,299,982 samples)\n"
     ]
    }
   ],
   "source": [
    "# Check if the category_detailed column is present\n",
    "if 'category_detailed' not in df_sales.columns:\n",
    "    print(f\"Warning: Missing 'category_detailed' column\")\n",
    "    print(\"Will use category_major instead as a fallback for grouping\")\n",
    "    # Fallback to category_major if category_detailed isn't available\n",
    "    df_sales['group'] = df_sales['category_major'].astype(str)\n",
    "else:\n",
    "    # Create a group column using category_detailed\n",
    "    print(\"Creating groups based on product category_detailed...\")\n",
    "    df_sales['group'] = df_sales['category_detailed'].astype(str)\n",
    "\n",
    "# Count records per group\n",
    "group_counts = df_sales['group'].value_counts()\n",
    "print(f\"\\nFound {len(group_counts)} unique category groups\")\n",
    "\n",
    "# Filter groups with sufficient data (at least 1000 samples)\n",
    "min_samples = 1000\n",
    "large_groups = group_counts[group_counts >= min_samples]\n",
    "print(f\"Found {len(large_groups)} category groups with at least {min_samples} samples each\")\n",
    "\n",
    "# Display the top 10 groups by count\n",
    "print(\"\\nTop 10 category groups by sample count:\")\n",
    "display(large_groups.head(10))\n",
    "top_groups = large_groups.index\n",
    "    \n",
    "# Visual distribution of samples across groups\n",
    "plt.figure(figsize=(14, 7))\n",
    "sns.barplot(x=large_groups.head(20).index, y=large_groups.head(20).values)\n",
    "plt.title('Sample Distribution Across Top 20 Category Groups')\n",
    "plt.xlabel('Category Group (category_detailed)')\n",
    "plt.ylabel('Number of Samples')\n",
    "plt.xticks(rotation=45, ha='right')\n",
    "plt.tight_layout()\n",
    "plt.show()\n",
    "\n",
    "# Check the total number of samples in selected groups vs all data\n",
    "samples_in_selected = sum(large_groups)\n",
    "total_samples = len(df_sales)\n",
    "coverage = samples_in_selected / total_samples * 100\n",
    "print(f\"Selected category groups cover {coverage:.2f}% of the total data ({samples_in_selected:,} out of {total_samples:,} samples)\")"
   ]
  },
  {
   "cell_type": "markdown",
   "id": "f843b080",
   "metadata": {},
   "source": [
    "## 3. Split and Save Data by Category Group\n",
    "\n",
    "Now we'll create separate CSV files for each category group."
   ]
  },
  {
   "cell_type": "code",
   "execution_count": 4,
   "id": "414812dc",
   "metadata": {},
   "outputs": [
    {
     "name": "stdout",
     "output_type": "stream",
     "text": [
      "Splitting data into 11 separate files...\n"
     ]
    },
    {
     "data": {
      "application/vnd.jupyter.widget-view+json": {
       "model_id": "9e861fd3f4764d0eb2c1a527778c814c",
       "version_major": 2,
       "version_minor": 0
      },
      "text/plain": [
       "  0%|          | 0/11 [00:00<?, ?it/s]"
      ]
     },
     "metadata": {},
     "output_type": "display_data"
    }
   ],
   "source": [
    "# Initialize a summary DataFrame to track the splits\n",
    "split_summary = []\n",
    "\n",
    "print(f\"Splitting data into {len(top_groups)} separate files...\")\n",
    "\n",
    "# Process each group\n",
    "for i, group in enumerate(tqdm(top_groups)):\n",
    "    # Filter data for this group\n",
    "    group_data = df_sales[df_sales['group'] == group].copy()\n",
    "    \n",
    "    # Create a clean filename by replacing invalid characters\n",
    "    clean_name = str(group).replace('/', '_').replace('\\\\', '_').replace(' ', '_')\n",
    "    filename = f\"sales_category_{i+1:02d}_{clean_name}.csv\"\n",
    "    filepath = os.path.join(OUTPUT_DIR, filename)\n",
    "    \n",
    "    # Add to summary\n",
    "    split_summary.append({\n",
    "        'File': filename,\n",
    "        'Group': clean_name,\n",
    "        'Samples': len(group_data)\n",
    "    })\n",
    "    \n",
    "    # Save the data\n",
    "    group_data.to_csv(filepath, index=False)\n",
    "\n",
    "# Save summary\n",
    "# summary_df = pd.DataFrame(split_summary)\n",
    "# summary_df.to_csv(os.path.join(OUTPUT_DIR, \"split_summary.csv\"), index=False)\n",
    "# print(f\"\\nSummary of splits:\")\n",
    "# display(summary_df)"
   ]
  },
  {
   "cell_type": "markdown",
   "id": "959921ae",
   "metadata": {},
   "source": [
    "## 4. Conclusion\n",
    "\n",
    "We've successfully split the sales data into separate files based on product categories (using the category_detailed column). These files are now ready to be used in the `05_experiments.ipynb` notebook, where we'll train and evaluate models separately for each category group."
   ]
  }
 ],
 "metadata": {
  "kernelspec": {
   "display_name": "Python 3 (ipykernel)",
   "language": "python",
   "name": "python3"
  },
  "language_info": {
   "codemirror_mode": {
    "name": "ipython",
    "version": 3
   },
   "file_extension": ".py",
   "mimetype": "text/x-python",
   "name": "python",
   "nbconvert_exporter": "python",
   "pygments_lexer": "ipython3",
   "version": "3.12.8"
  }
 },
 "nbformat": 4,
 "nbformat_minor": 5
}
